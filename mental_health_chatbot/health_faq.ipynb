{
 "cells": [
  {
   "cell_type": "code",
   "execution_count": 1,
   "id": "0819e0f4-f601-43a1-8210-f398bae82b28",
   "metadata": {
    "scrolled": true
   },
   "outputs": [
    {
     "name": "stdout",
     "output_type": "stream",
     "text": [
      "Requirement already satisfied: pandas in c:\\users\\user\\anaconda3\\lib\\site-packages (2.2.2)\n",
      "Requirement already satisfied: numpy in c:\\users\\user\\anaconda3\\lib\\site-packages (1.26.4)\n",
      "Requirement already satisfied: scikit-learn in c:\\users\\user\\anaconda3\\lib\\site-packages (1.5.1)\n",
      "Requirement already satisfied: nltk in c:\\users\\user\\anaconda3\\lib\\site-packages (3.9.1)\n",
      "Collecting transformers\n",
      "  Downloading transformers-4.52.4-py3-none-any.whl.metadata (38 kB)\n",
      "Requirement already satisfied: flask in c:\\users\\user\\anaconda3\\lib\\site-packages (3.0.3)\n",
      "Requirement already satisfied: python-dateutil>=2.8.2 in c:\\users\\user\\anaconda3\\lib\\site-packages (from pandas) (2.9.0.post0)\n",
      "Requirement already satisfied: pytz>=2020.1 in c:\\users\\user\\anaconda3\\lib\\site-packages (from pandas) (2024.1)\n",
      "Requirement already satisfied: tzdata>=2022.7 in c:\\users\\user\\anaconda3\\lib\\site-packages (from pandas) (2023.3)\n",
      "Requirement already satisfied: scipy>=1.6.0 in c:\\users\\user\\anaconda3\\lib\\site-packages (from scikit-learn) (1.13.1)\n",
      "Requirement already satisfied: joblib>=1.2.0 in c:\\users\\user\\anaconda3\\lib\\site-packages (from scikit-learn) (1.4.2)\n",
      "Requirement already satisfied: threadpoolctl>=3.1.0 in c:\\users\\user\\anaconda3\\lib\\site-packages (from scikit-learn) (3.5.0)\n",
      "Requirement already satisfied: click in c:\\users\\user\\anaconda3\\lib\\site-packages (from nltk) (8.1.7)\n",
      "Requirement already satisfied: regex>=2021.8.3 in c:\\users\\user\\anaconda3\\lib\\site-packages (from nltk) (2024.9.11)\n",
      "Requirement already satisfied: tqdm in c:\\users\\user\\anaconda3\\lib\\site-packages (from nltk) (4.66.5)\n",
      "Requirement already satisfied: filelock in c:\\users\\user\\anaconda3\\lib\\site-packages (from transformers) (3.13.1)\n",
      "Collecting huggingface-hub<1.0,>=0.30.0 (from transformers)\n",
      "  Downloading huggingface_hub-0.33.0-py3-none-any.whl.metadata (14 kB)\n",
      "Requirement already satisfied: packaging>=20.0 in c:\\users\\user\\anaconda3\\lib\\site-packages (from transformers) (24.1)\n",
      "Requirement already satisfied: pyyaml>=5.1 in c:\\users\\user\\anaconda3\\lib\\site-packages (from transformers) (6.0.1)\n",
      "Requirement already satisfied: requests in c:\\users\\user\\anaconda3\\lib\\site-packages (from transformers) (2.32.3)\n",
      "Collecting tokenizers<0.22,>=0.21 (from transformers)\n",
      "  Downloading tokenizers-0.21.1-cp39-abi3-win_amd64.whl.metadata (6.9 kB)\n",
      "Collecting safetensors>=0.4.3 (from transformers)\n",
      "  Downloading safetensors-0.5.3-cp38-abi3-win_amd64.whl.metadata (3.9 kB)\n",
      "Requirement already satisfied: Werkzeug>=3.0.0 in c:\\users\\user\\anaconda3\\lib\\site-packages (from flask) (3.0.3)\n",
      "Requirement already satisfied: Jinja2>=3.1.2 in c:\\users\\user\\anaconda3\\lib\\site-packages (from flask) (3.1.4)\n",
      "Requirement already satisfied: itsdangerous>=2.1.2 in c:\\users\\user\\anaconda3\\lib\\site-packages (from flask) (2.2.0)\n",
      "Requirement already satisfied: blinker>=1.6.2 in c:\\users\\user\\anaconda3\\lib\\site-packages (from flask) (1.6.2)\n",
      "Requirement already satisfied: colorama in c:\\users\\user\\anaconda3\\lib\\site-packages (from click->nltk) (0.4.6)\n",
      "Requirement already satisfied: fsspec>=2023.5.0 in c:\\users\\user\\anaconda3\\lib\\site-packages (from huggingface-hub<1.0,>=0.30.0->transformers) (2024.6.1)\n",
      "Requirement already satisfied: typing-extensions>=3.7.4.3 in c:\\users\\user\\anaconda3\\lib\\site-packages (from huggingface-hub<1.0,>=0.30.0->transformers) (4.11.0)\n",
      "Requirement already satisfied: MarkupSafe>=2.0 in c:\\users\\user\\anaconda3\\lib\\site-packages (from Jinja2>=3.1.2->flask) (2.1.3)\n",
      "Requirement already satisfied: six>=1.5 in c:\\users\\user\\anaconda3\\lib\\site-packages (from python-dateutil>=2.8.2->pandas) (1.16.0)\n",
      "Requirement already satisfied: charset-normalizer<4,>=2 in c:\\users\\user\\anaconda3\\lib\\site-packages (from requests->transformers) (3.3.2)\n",
      "Requirement already satisfied: idna<4,>=2.5 in c:\\users\\user\\anaconda3\\lib\\site-packages (from requests->transformers) (3.7)\n",
      "Requirement already satisfied: urllib3<3,>=1.21.1 in c:\\users\\user\\anaconda3\\lib\\site-packages (from requests->transformers) (2.2.3)\n",
      "Requirement already satisfied: certifi>=2017.4.17 in c:\\users\\user\\anaconda3\\lib\\site-packages (from requests->transformers) (2025.4.26)\n",
      "Downloading transformers-4.52.4-py3-none-any.whl (10.5 MB)\n",
      "   ---------------------------------------- 0.0/10.5 MB ? eta -:--:--\n",
      "   ---------------------------------------- 0.0/10.5 MB ? eta -:--:--\n",
      "   ---------------------------------------- 0.0/10.5 MB ? eta -:--:--\n",
      "   ---------------------------------------- 0.0/10.5 MB ? eta -:--:--\n",
      "   - -------------------------------------- 0.3/10.5 MB ? eta -:--:--\n",
      "   - -------------------------------------- 0.3/10.5 MB ? eta -:--:--\n",
      "   - -------------------------------------- 0.3/10.5 MB ? eta -:--:--\n",
      "   - -------------------------------------- 0.3/10.5 MB ? eta -:--:--\n",
      "   -- ------------------------------------- 0.5/10.5 MB 311.0 kB/s eta 0:00:32\n",
      "   -- ------------------------------------- 0.5/10.5 MB 311.0 kB/s eta 0:00:32\n",
      "   -- ------------------------------------- 0.5/10.5 MB 311.0 kB/s eta 0:00:32\n",
      "   --- ------------------------------------ 0.8/10.5 MB 369.0 kB/s eta 0:00:27\n",
      "   --- ------------------------------------ 0.8/10.5 MB 369.0 kB/s eta 0:00:27\n",
      "   ---- ----------------------------------- 1.0/10.5 MB 406.0 kB/s eta 0:00:24\n",
      "   ---- ----------------------------------- 1.0/10.5 MB 406.0 kB/s eta 0:00:24\n",
      "   ----- ---------------------------------- 1.3/10.5 MB 453.5 kB/s eta 0:00:21\n",
      "   ----- ---------------------------------- 1.3/10.5 MB 453.5 kB/s eta 0:00:21\n",
      "   ------ --------------------------------- 1.6/10.5 MB 487.8 kB/s eta 0:00:19\n",
      "   ------ --------------------------------- 1.6/10.5 MB 487.8 kB/s eta 0:00:19\n",
      "   ------ --------------------------------- 1.6/10.5 MB 487.8 kB/s eta 0:00:19\n",
      "   ------ --------------------------------- 1.6/10.5 MB 487.8 kB/s eta 0:00:19\n",
      "   ------ --------------------------------- 1.6/10.5 MB 487.8 kB/s eta 0:00:19\n",
      "   ------- -------------------------------- 1.8/10.5 MB 407.6 kB/s eta 0:00:22\n",
      "   ------- -------------------------------- 1.8/10.5 MB 407.6 kB/s eta 0:00:22\n",
      "   ------- -------------------------------- 1.8/10.5 MB 407.6 kB/s eta 0:00:22\n",
      "   -------- ------------------------------- 2.1/10.5 MB 412.1 kB/s eta 0:00:21\n",
      "   -------- ------------------------------- 2.1/10.5 MB 412.1 kB/s eta 0:00:21\n",
      "   --------- ------------------------------ 2.4/10.5 MB 424.8 kB/s eta 0:00:20\n",
      "   --------- ------------------------------ 2.4/10.5 MB 424.8 kB/s eta 0:00:20\n",
      "   ---------- ----------------------------- 2.6/10.5 MB 449.4 kB/s eta 0:00:18\n",
      "   ----------- ---------------------------- 2.9/10.5 MB 475.3 kB/s eta 0:00:16\n",
      "   ----------- ---------------------------- 2.9/10.5 MB 475.3 kB/s eta 0:00:16\n",
      "   ----------- ---------------------------- 2.9/10.5 MB 475.3 kB/s eta 0:00:16\n",
      "   ----------- ---------------------------- 2.9/10.5 MB 475.3 kB/s eta 0:00:16\n",
      "   ----------- ---------------------------- 2.9/10.5 MB 475.3 kB/s eta 0:00:16\n",
      "   ------------ --------------------------- 3.1/10.5 MB 442.6 kB/s eta 0:00:17\n",
      "   ------------ --------------------------- 3.1/10.5 MB 442.6 kB/s eta 0:00:17\n",
      "   ------------ --------------------------- 3.1/10.5 MB 442.6 kB/s eta 0:00:17\n",
      "   ------------ --------------------------- 3.1/10.5 MB 442.6 kB/s eta 0:00:17\n",
      "   ------------ --------------------------- 3.1/10.5 MB 442.6 kB/s eta 0:00:17\n",
      "   ------------ --------------------------- 3.1/10.5 MB 442.6 kB/s eta 0:00:17\n",
      "   ------------ --------------------------- 3.1/10.5 MB 442.6 kB/s eta 0:00:17\n",
      "   ------------ --------------------------- 3.1/10.5 MB 442.6 kB/s eta 0:00:17\n",
      "   ------------ --------------------------- 3.1/10.5 MB 442.6 kB/s eta 0:00:17\n",
      "   ------------- -------------------------- 3.4/10.5 MB 368.7 kB/s eta 0:00:20\n",
      "   ------------- -------------------------- 3.4/10.5 MB 368.7 kB/s eta 0:00:20\n",
      "   -------------- ------------------------- 3.7/10.5 MB 377.4 kB/s eta 0:00:18\n",
      "   -------------- ------------------------- 3.7/10.5 MB 377.4 kB/s eta 0:00:18\n",
      "   --------------- ------------------------ 3.9/10.5 MB 394.8 kB/s eta 0:00:17\n",
      "   --------------- ------------------------ 3.9/10.5 MB 394.8 kB/s eta 0:00:17\n",
      "   --------------- ------------------------ 3.9/10.5 MB 394.8 kB/s eta 0:00:17\n",
      "   --------------- ------------------------ 3.9/10.5 MB 394.8 kB/s eta 0:00:17\n",
      "   --------------- ------------------------ 3.9/10.5 MB 394.8 kB/s eta 0:00:17\n",
      "   --------------- ------------------------ 3.9/10.5 MB 394.8 kB/s eta 0:00:17\n",
      "   --------------- ------------------------ 3.9/10.5 MB 394.8 kB/s eta 0:00:17\n",
      "   --------------- ------------------------ 3.9/10.5 MB 394.8 kB/s eta 0:00:17\n",
      "   --------------- ------------------------ 3.9/10.5 MB 394.8 kB/s eta 0:00:17\n",
      "   --------------- ------------------------ 3.9/10.5 MB 394.8 kB/s eta 0:00:17\n",
      "   ---------------- ----------------------- 4.2/10.5 MB 341.0 kB/s eta 0:00:19\n",
      "   ---------------- ----------------------- 4.2/10.5 MB 341.0 kB/s eta 0:00:19\n",
      "   ----------------- ---------------------- 4.5/10.5 MB 351.4 kB/s eta 0:00:18\n",
      "   ----------------- ---------------------- 4.5/10.5 MB 351.4 kB/s eta 0:00:18\n",
      "   ----------------- ---------------------- 4.5/10.5 MB 351.4 kB/s eta 0:00:18\n",
      "   ----------------- ---------------------- 4.5/10.5 MB 351.4 kB/s eta 0:00:18\n",
      "   ------------------ --------------------- 4.7/10.5 MB 350.0 kB/s eta 0:00:17\n",
      "   ------------------ --------------------- 4.7/10.5 MB 350.0 kB/s eta 0:00:17\n",
      "   ------------------ --------------------- 4.7/10.5 MB 350.0 kB/s eta 0:00:17\n",
      "   ------------------ --------------------- 4.7/10.5 MB 350.0 kB/s eta 0:00:17\n",
      "   ------------------ --------------------- 4.7/10.5 MB 350.0 kB/s eta 0:00:17\n",
      "   ------------------ --------------------- 4.7/10.5 MB 350.0 kB/s eta 0:00:17\n",
      "   ------------------ --------------------- 4.7/10.5 MB 350.0 kB/s eta 0:00:17\n",
      "   ------------------ --------------------- 4.7/10.5 MB 350.0 kB/s eta 0:00:17\n",
      "   ------------------ --------------------- 4.7/10.5 MB 350.0 kB/s eta 0:00:17\n",
      "   ------------------ --------------------- 4.7/10.5 MB 350.0 kB/s eta 0:00:17\n",
      "   ------------------ --------------------- 4.7/10.5 MB 350.0 kB/s eta 0:00:17\n",
      "   ------------------ --------------------- 4.7/10.5 MB 350.0 kB/s eta 0:00:17\n",
      "   ------------------ --------------------- 4.7/10.5 MB 350.0 kB/s eta 0:00:17\n",
      "   ------------------ --------------------- 4.7/10.5 MB 350.0 kB/s eta 0:00:17\n",
      "   ------------------ --------------------- 4.7/10.5 MB 350.0 kB/s eta 0:00:17\n",
      "   ------------------ --------------------- 4.7/10.5 MB 350.0 kB/s eta 0:00:17\n",
      "   ------------------ --------------------- 4.7/10.5 MB 350.0 kB/s eta 0:00:17\n",
      "   ------------------ --------------------- 4.7/10.5 MB 350.0 kB/s eta 0:00:17\n",
      "   ------------------ --------------------- 4.7/10.5 MB 350.0 kB/s eta 0:00:17\n",
      "   ------------------ --------------------- 4.7/10.5 MB 350.0 kB/s eta 0:00:17\n",
      "   ------------------ --------------------- 4.7/10.5 MB 350.0 kB/s eta 0:00:17\n",
      "   ------------------ --------------------- 4.7/10.5 MB 350.0 kB/s eta 0:00:17\n",
      "   ------------------ --------------------- 4.7/10.5 MB 350.0 kB/s eta 0:00:17\n",
      "   ------------------- -------------------- 5.0/10.5 MB 267.5 kB/s eta 0:00:21\n",
      "   ------------------- -------------------- 5.0/10.5 MB 267.5 kB/s eta 0:00:21\n",
      "   ------------------- -------------------- 5.0/10.5 MB 267.5 kB/s eta 0:00:21\n",
      "   -------------------- ------------------- 5.2/10.5 MB 269.9 kB/s eta 0:00:20\n",
      "   -------------------- ------------------- 5.2/10.5 MB 269.9 kB/s eta 0:00:20\n",
      "   -------------------- ------------------- 5.2/10.5 MB 269.9 kB/s eta 0:00:20\n",
      "   -------------------- ------------------- 5.2/10.5 MB 269.9 kB/s eta 0:00:20\n",
      "   -------------------- ------------------- 5.2/10.5 MB 269.9 kB/s eta 0:00:20\n",
      "   --------------------- ------------------ 5.5/10.5 MB 270.4 kB/s eta 0:00:19\n",
      "   --------------------- ------------------ 5.5/10.5 MB 270.4 kB/s eta 0:00:19\n",
      "   ---------------------- ----------------- 5.8/10.5 MB 275.7 kB/s eta 0:00:18\n",
      "   ---------------------- ----------------- 5.8/10.5 MB 275.7 kB/s eta 0:00:18\n",
      "   ----------------------- ---------------- 6.0/10.5 MB 283.5 kB/s eta 0:00:16\n",
      "   ----------------------- ---------------- 6.0/10.5 MB 283.5 kB/s eta 0:00:16\n",
      "   ----------------------- ---------------- 6.0/10.5 MB 283.5 kB/s eta 0:00:16\n",
      "   ----------------------- ---------------- 6.0/10.5 MB 283.5 kB/s eta 0:00:16\n",
      "   ----------------------- ---------------- 6.0/10.5 MB 283.5 kB/s eta 0:00:16\n",
      "   ----------------------- ---------------- 6.0/10.5 MB 283.5 kB/s eta 0:00:16\n",
      "   ----------------------- ---------------- 6.0/10.5 MB 283.5 kB/s eta 0:00:16\n",
      "   ----------------------- ---------------- 6.0/10.5 MB 283.5 kB/s eta 0:00:16\n",
      "   ----------------------- ---------------- 6.0/10.5 MB 283.5 kB/s eta 0:00:16\n",
      "   ----------------------- ---------------- 6.0/10.5 MB 283.5 kB/s eta 0:00:16\n",
      "   ----------------------- ---------------- 6.0/10.5 MB 283.5 kB/s eta 0:00:16\n",
      "   ----------------------- ---------------- 6.0/10.5 MB 283.5 kB/s eta 0:00:16\n",
      "   ----------------------- ---------------- 6.0/10.5 MB 283.5 kB/s eta 0:00:16\n",
      "   ----------------------- ---------------- 6.0/10.5 MB 283.5 kB/s eta 0:00:16\n",
      "   ----------------------- ---------------- 6.0/10.5 MB 283.5 kB/s eta 0:00:16\n",
      "   ----------------------- ---------------- 6.0/10.5 MB 283.5 kB/s eta 0:00:16\n",
      "   ----------------------- ---------------- 6.0/10.5 MB 283.5 kB/s eta 0:00:16\n",
      "   ----------------------- ---------------- 6.0/10.5 MB 283.5 kB/s eta 0:00:16\n",
      "   ----------------------- ---------------- 6.0/10.5 MB 283.5 kB/s eta 0:00:16\n",
      "   ----------------------- ---------------- 6.0/10.5 MB 283.5 kB/s eta 0:00:16\n",
      "   ----------------------- ---------------- 6.0/10.5 MB 283.5 kB/s eta 0:00:16\n",
      "   ----------------------- ---------------- 6.0/10.5 MB 283.5 kB/s eta 0:00:16\n",
      "   ----------------------- ---------------- 6.0/10.5 MB 283.5 kB/s eta 0:00:16\n",
      "   ----------------------- ---------------- 6.0/10.5 MB 283.5 kB/s eta 0:00:16\n",
      "   ----------------------- ---------------- 6.0/10.5 MB 283.5 kB/s eta 0:00:16\n",
      "   ----------------------- ---------------- 6.0/10.5 MB 283.5 kB/s eta 0:00:16\n",
      "   ----------------------- ---------------- 6.0/10.5 MB 283.5 kB/s eta 0:00:16\n",
      "   ----------------------- ---------------- 6.0/10.5 MB 283.5 kB/s eta 0:00:16\n",
      "   ----------------------- ---------------- 6.0/10.5 MB 283.5 kB/s eta 0:00:16\n",
      "   ----------------------- ---------------- 6.0/10.5 MB 283.5 kB/s eta 0:00:16\n",
      "   ----------------------- ---------------- 6.0/10.5 MB 283.5 kB/s eta 0:00:16\n",
      "   ----------------------- ---------------- 6.0/10.5 MB 283.5 kB/s eta 0:00:16\n",
      "   ----------------------- ---------------- 6.0/10.5 MB 283.5 kB/s eta 0:00:16\n",
      "   ----------------------- ---------------- 6.0/10.5 MB 283.5 kB/s eta 0:00:16\n",
      "   ----------------------- ---------------- 6.0/10.5 MB 283.5 kB/s eta 0:00:16\n",
      "   ----------------------- ---------------- 6.0/10.5 MB 283.5 kB/s eta 0:00:16\n",
      "   ----------------------- ---------------- 6.0/10.5 MB 283.5 kB/s eta 0:00:16\n",
      "   ----------------------- ---------------- 6.0/10.5 MB 283.5 kB/s eta 0:00:16\n",
      "   ----------------------- ---------------- 6.0/10.5 MB 283.5 kB/s eta 0:00:16\n",
      "   ----------------------- ---------------- 6.0/10.5 MB 283.5 kB/s eta 0:00:16\n",
      "   ----------------------- ---------------- 6.0/10.5 MB 283.5 kB/s eta 0:00:16\n",
      "   ----------------------- ---------------- 6.0/10.5 MB 283.5 kB/s eta 0:00:16\n",
      "   ----------------------- ---------------- 6.0/10.5 MB 283.5 kB/s eta 0:00:16\n",
      "   ----------------------- ---------------- 6.0/10.5 MB 283.5 kB/s eta 0:00:16\n",
      "   ----------------------- ---------------- 6.0/10.5 MB 283.5 kB/s eta 0:00:16\n",
      "   ----------------------- ---------------- 6.0/10.5 MB 283.5 kB/s eta 0:00:16\n",
      "   ----------------------- ---------------- 6.0/10.5 MB 283.5 kB/s eta 0:00:16\n",
      "   ----------------------- ---------------- 6.0/10.5 MB 283.5 kB/s eta 0:00:16\n",
      "   ----------------------- ---------------- 6.0/10.5 MB 283.5 kB/s eta 0:00:16\n",
      "   ----------------------- ---------------- 6.0/10.5 MB 283.5 kB/s eta 0:00:16\n",
      "   ----------------------- ---------------- 6.0/10.5 MB 283.5 kB/s eta 0:00:16\n",
      "   ----------------------- ---------------- 6.0/10.5 MB 283.5 kB/s eta 0:00:16\n",
      "   ----------------------- ---------------- 6.0/10.5 MB 283.5 kB/s eta 0:00:16\n",
      "   ----------------------- ---------------- 6.0/10.5 MB 283.5 kB/s eta 0:00:16\n",
      "   ----------------------- ---------------- 6.0/10.5 MB 283.5 kB/s eta 0:00:16\n",
      "   ----------------------- ---------------- 6.0/10.5 MB 283.5 kB/s eta 0:00:16\n",
      "   ----------------------- ---------------- 6.0/10.5 MB 283.5 kB/s eta 0:00:16\n",
      "   ----------------------- ---------------- 6.0/10.5 MB 283.5 kB/s eta 0:00:16\n",
      "   ----------------------- ---------------- 6.0/10.5 MB 283.5 kB/s eta 0:00:16\n",
      "   ----------------------- ---------------- 6.0/10.5 MB 283.5 kB/s eta 0:00:16\n",
      "   ----------------------- ---------------- 6.0/10.5 MB 283.5 kB/s eta 0:00:16\n",
      "   ----------------------- ---------------- 6.0/10.5 MB 283.5 kB/s eta 0:00:16\n",
      "   ----------------------- ---------------- 6.0/10.5 MB 283.5 kB/s eta 0:00:16\n",
      "   ----------------------- ---------------- 6.0/10.5 MB 283.5 kB/s eta 0:00:16\n",
      "   ----------------------- ---------------- 6.0/10.5 MB 283.5 kB/s eta 0:00:16\n",
      "   ----------------------- ---------------- 6.0/10.5 MB 283.5 kB/s eta 0:00:16\n",
      "   ----------------------- ---------------- 6.0/10.5 MB 283.5 kB/s eta 0:00:16\n",
      "   ----------------------- ---------------- 6.0/10.5 MB 283.5 kB/s eta 0:00:16\n",
      "   ----------------------- ---------------- 6.0/10.5 MB 283.5 kB/s eta 0:00:16\n",
      "   ----------------------- ---------------- 6.0/10.5 MB 283.5 kB/s eta 0:00:16\n",
      "   ----------------------- ---------------- 6.0/10.5 MB 283.5 kB/s eta 0:00:16\n",
      "   ----------------------- ---------------- 6.0/10.5 MB 283.5 kB/s eta 0:00:16\n",
      "   ----------------------- ---------------- 6.0/10.5 MB 283.5 kB/s eta 0:00:16\n"
     ]
    },
    {
     "name": "stderr",
     "output_type": "stream",
     "text": [
      "ERROR: Exception:\n",
      "Traceback (most recent call last):\n",
      "  File \"C:\\Users\\USER\\anaconda3\\Lib\\site-packages\\pip\\_vendor\\urllib3\\response.py\", line 438, in _error_catcher\n",
      "    yield\n",
      "  File \"C:\\Users\\USER\\anaconda3\\Lib\\site-packages\\pip\\_vendor\\urllib3\\response.py\", line 561, in read\n",
      "    data = self._fp_read(amt) if not fp_closed else b\"\"\n",
      "           ^^^^^^^^^^^^^^^^^^\n",
      "  File \"C:\\Users\\USER\\anaconda3\\Lib\\site-packages\\pip\\_vendor\\urllib3\\response.py\", line 527, in _fp_read\n",
      "    return self._fp.read(amt) if amt is not None else self._fp.read()\n",
      "           ^^^^^^^^^^^^^^^^^^\n",
      "  File \"C:\\Users\\USER\\anaconda3\\Lib\\site-packages\\pip\\_vendor\\cachecontrol\\filewrapper.py\", line 98, in read\n",
      "    data: bytes = self.__fp.read(amt)\n",
      "                  ^^^^^^^^^^^^^^^^^^^\n",
      "  File \"C:\\Users\\USER\\anaconda3\\Lib\\http\\client.py\", line 479, in read\n",
      "    s = self.fp.read(amt)\n",
      "        ^^^^^^^^^^^^^^^^^\n",
      "  File \"C:\\Users\\USER\\anaconda3\\Lib\\socket.py\", line 720, in readinto\n",
      "    return self._sock.recv_into(b)\n",
      "           ^^^^^^^^^^^^^^^^^^^^^^^\n",
      "  File \"C:\\Users\\USER\\anaconda3\\Lib\\ssl.py\", line 1251, in recv_into\n",
      "    return self.read(nbytes, buffer)\n",
      "           ^^^^^^^^^^^^^^^^^^^^^^^^^\n",
      "  File \"C:\\Users\\USER\\anaconda3\\Lib\\ssl.py\", line 1103, in read\n",
      "    return self._sslobj.read(len, buffer)\n",
      "           ^^^^^^^^^^^^^^^^^^^^^^^^^^^^^^\n",
      "TimeoutError: The read operation timed out\n",
      "\n",
      "During handling of the above exception, another exception occurred:\n",
      "\n",
      "Traceback (most recent call last):\n",
      "  File \"C:\\Users\\USER\\anaconda3\\Lib\\site-packages\\pip\\_internal\\cli\\base_command.py\", line 105, in _run_wrapper\n",
      "    status = _inner_run()\n",
      "             ^^^^^^^^^^^^\n",
      "  File \"C:\\Users\\USER\\anaconda3\\Lib\\site-packages\\pip\\_internal\\cli\\base_command.py\", line 96, in _inner_run\n",
      "    return self.run(options, args)\n",
      "           ^^^^^^^^^^^^^^^^^^^^^^^\n",
      "  File \"C:\\Users\\USER\\anaconda3\\Lib\\site-packages\\pip\\_internal\\cli\\req_command.py\", line 67, in wrapper\n",
      "    return func(self, options, args)\n",
      "           ^^^^^^^^^^^^^^^^^^^^^^^^^\n",
      "  File \"C:\\Users\\USER\\anaconda3\\Lib\\site-packages\\pip\\_internal\\commands\\install.py\", line 379, in run\n",
      "    requirement_set = resolver.resolve(\n",
      "                      ^^^^^^^^^^^^^^^^^\n",
      "  File \"C:\\Users\\USER\\anaconda3\\Lib\\site-packages\\pip\\_internal\\resolution\\resolvelib\\resolver.py\", line 179, in resolve\n",
      "    self.factory.preparer.prepare_linked_requirements_more(reqs)\n",
      "  File \"C:\\Users\\USER\\anaconda3\\Lib\\site-packages\\pip\\_internal\\operations\\prepare.py\", line 554, in prepare_linked_requirements_more\n",
      "    self._complete_partial_requirements(\n",
      "  File \"C:\\Users\\USER\\anaconda3\\Lib\\site-packages\\pip\\_internal\\operations\\prepare.py\", line 469, in _complete_partial_requirements\n",
      "    for link, (filepath, _) in batch_download:\n",
      "  File \"C:\\Users\\USER\\anaconda3\\Lib\\site-packages\\pip\\_internal\\network\\download.py\", line 184, in __call__\n",
      "    for chunk in chunks:\n",
      "  File \"C:\\Users\\USER\\anaconda3\\Lib\\site-packages\\pip\\_internal\\cli\\progress_bars.py\", line 55, in _rich_progress_bar\n",
      "    for chunk in iterable:\n",
      "  File \"C:\\Users\\USER\\anaconda3\\Lib\\site-packages\\pip\\_internal\\network\\utils.py\", line 65, in response_chunks\n",
      "    for chunk in response.raw.stream(\n",
      "  File \"C:\\Users\\USER\\anaconda3\\Lib\\site-packages\\pip\\_vendor\\urllib3\\response.py\", line 622, in stream\n",
      "    data = self.read(amt=amt, decode_content=decode_content)\n",
      "           ^^^^^^^^^^^^^^^^^^^^^^^^^^^^^^^^^^^^^^^^^^^^^^^^^\n",
      "  File \"C:\\Users\\USER\\anaconda3\\Lib\\site-packages\\pip\\_vendor\\urllib3\\response.py\", line 560, in read\n",
      "    with self._error_catcher():\n",
      "  File \"C:\\Users\\USER\\anaconda3\\Lib\\contextlib.py\", line 158, in __exit__\n",
      "    self.gen.throw(value)\n",
      "  File \"C:\\Users\\USER\\anaconda3\\Lib\\site-packages\\pip\\_vendor\\urllib3\\response.py\", line 443, in _error_catcher\n",
      "    raise ReadTimeoutError(self._pool, None, \"Read timed out.\")\n",
      "pip._vendor.urllib3.exceptions.ReadTimeoutError: HTTPSConnectionPool(host='files.pythonhosted.org', port=443): Read timed out.\n"
     ]
    }
   ],
   "source": [
    "!pip install pandas numpy scikit-learn nltk transformers flask"
   ]
  },
  {
   "cell_type": "markdown",
   "id": "41498006-f102-4402-9c2d-439f3584ba64",
   "metadata": {},
   "source": [
    "Importing the dataset"
   ]
  },
  {
   "cell_type": "code",
   "execution_count": 10,
   "id": "2bbc14d9-89e6-4e45-9416-f87be3a7d2e1",
   "metadata": {
    "scrolled": true
   },
   "outputs": [
    {
     "data": {
      "text/html": [
       "<div>\n",
       "<style scoped>\n",
       "    .dataframe tbody tr th:only-of-type {\n",
       "        vertical-align: middle;\n",
       "    }\n",
       "\n",
       "    .dataframe tbody tr th {\n",
       "        vertical-align: top;\n",
       "    }\n",
       "\n",
       "    .dataframe thead th {\n",
       "        text-align: right;\n",
       "    }\n",
       "</style>\n",
       "<table border=\"1\" class=\"dataframe\">\n",
       "  <thead>\n",
       "    <tr style=\"text-align: right;\">\n",
       "      <th></th>\n",
       "      <th>FAQ</th>\n",
       "      <th>Answer</th>\n",
       "    </tr>\n",
       "  </thead>\n",
       "  <tbody>\n",
       "    <tr>\n",
       "      <th>0</th>\n",
       "      <td>I can't stop overthinking. How do I break the ...</td>\n",
       "      <td>Overthinking often stems from anxiety. Try the...</td>\n",
       "    </tr>\n",
       "    <tr>\n",
       "      <th>1</th>\n",
       "      <td>Why do I feel tired all the time even after sl...</td>\n",
       "      <td>Chronic fatigue can link to depression, stress...</td>\n",
       "    </tr>\n",
       "    <tr>\n",
       "      <th>2</th>\n",
       "      <td>How do I set boundaries without feeling guilty?</td>\n",
       "      <td>Boundaries protect your energy. Start with: 'I...</td>\n",
       "    </tr>\n",
       "    <tr>\n",
       "      <th>3</th>\n",
       "      <td>I had a bad therapy session. Should I quit?</td>\n",
       "      <td>Not all therapists are the right fit. It's oka...</td>\n",
       "    </tr>\n",
       "    <tr>\n",
       "      <th>4</th>\n",
       "      <td>Can exercise really help my mental health?</td>\n",
       "      <td>Yes! Even 10-minute walks release mood-boostin...</td>\n",
       "    </tr>\n",
       "  </tbody>\n",
       "</table>\n",
       "</div>"
      ],
      "text/plain": [
       "                                                 FAQ  \\\n",
       "0  I can't stop overthinking. How do I break the ...   \n",
       "1  Why do I feel tired all the time even after sl...   \n",
       "2    How do I set boundaries without feeling guilty?   \n",
       "3        I had a bad therapy session. Should I quit?   \n",
       "4         Can exercise really help my mental health?   \n",
       "\n",
       "                                              Answer  \n",
       "0  Overthinking often stems from anxiety. Try the...  \n",
       "1  Chronic fatigue can link to depression, stress...  \n",
       "2  Boundaries protect your energy. Start with: 'I...  \n",
       "3  Not all therapists are the right fit. It's oka...  \n",
       "4  Yes! Even 10-minute walks release mood-boostin...  "
      ]
     },
     "execution_count": 10,
     "metadata": {},
     "output_type": "execute_result"
    }
   ],
   "source": [
    "import pandas as pd\n",
    "faq_data = pd. read_csv(\"C:/Users/USER/Downloads/health_faq.csv\" ,\n",
    "                       quotechar='\"',\n",
    "                       encoding='utf-8',\n",
    "                       engine='python'\n",
    ")\n",
    "\n",
    "faq_data.head()\n",
    "                                                                "
   ]
  },
  {
   "cell_type": "markdown",
   "id": "d6f8c879-3f8b-4f05-bf81-810435c89e11",
   "metadata": {},
   "source": [
    "Basic Keyword Checking"
   ]
  },
  {
   "cell_type": "code",
   "execution_count": 20,
   "id": "0012da3b-b405-4568-a9a5-2d4b5f12f1a6",
   "metadata": {},
   "outputs": [],
   "source": [
    "risk_keywords = [\"suicide\", \"overthinking\", \"end it all\", \"can't cope\",\"guilty\",\"tired\"]\n",
    "\n",
    "def check_risk_words(text):\n",
    "    text = text.lower()\n",
    "    found_words = [word for word in risk_keywords if word in text]\n",
    "    return found_words"
   ]
  },
  {
   "cell_type": "code",
   "execution_count": 22,
   "id": "54f2a188-5184-41d1-b337-a65fa986a13c",
   "metadata": {},
   "outputs": [
    {
     "name": "stdout",
     "output_type": "stream",
     "text": [
      "['guilty']\n"
     ]
    }
   ],
   "source": [
    "print(check_risk_words(\"i had a bad therapy, i feel guilty\"))"
   ]
  },
  {
   "cell_type": "markdown",
   "id": "7469c545-f12d-400c-88b4-dc34abfb876f",
   "metadata": {},
   "source": [
    "Create a Sentiment analysis"
   ]
  },
  {
   "cell_type": "code",
   "execution_count": 27,
   "id": "2c56595e-5aed-4008-86c1-c6114083a5f3",
   "metadata": {},
   "outputs": [
    {
     "name": "stderr",
     "output_type": "stream",
     "text": [
      "[nltk_data] Downloading package vader_lexicon to\n",
      "[nltk_data]     C:\\Users\\USER\\AppData\\Roaming\\nltk_data...\n"
     ]
    },
    {
     "data": {
      "text/plain": [
       "True"
      ]
     },
     "execution_count": 27,
     "metadata": {},
     "output_type": "execute_result"
    }
   ],
   "source": [
    "import nltk\n",
    "from nltk.sentiment import SentimentIntensityAnalyzer\n",
    "\n",
    "nltk.download('vader_lexicon')  # Download once\n",
    "\n",
    "\n"
   ]
  },
  {
   "cell_type": "markdown",
   "id": "a8ef3b17-8066-4b1b-9a5d-dbd316838ff4",
   "metadata": {},
   "source": [
    "Run and observe the Sentiment"
   ]
  },
  {
   "cell_type": "code",
   "execution_count": 28,
   "id": "fb15b38c-5881-4ef2-90ed-e6202a0bc8a5",
   "metadata": {},
   "outputs": [],
   "source": [
    "sia = SentimentIntensityAnalyzer()\n",
    "\n",
    "def analyze_sentiment(text):\n",
    "    score = sia.polarity_scores(text)['compound']\n",
    "    if score < -0.5:\n",
    "        return \"High Risk\"\n",
    "    else:\n",
    "        return \"Low/Moderate Risk\"\n",
    "\n"
   ]
  },
  {
   "cell_type": "code",
   "execution_count": 29,
   "id": "38a7d916-8e12-4ba2-9452-7a1e19dd638e",
   "metadata": {
    "scrolled": true
   },
   "outputs": [
    {
     "name": "stdout",
     "output_type": "stream",
     "text": [
      "High Risk\n",
      "Low/Moderate Risk\n"
     ]
    }
   ],
   "source": [
    "print(analyze_sentiment(\"I am feeling really sad and hopeless.\"))\n",
    "print(analyze_sentiment(\"I am doing okay today.\"))"
   ]
  },
  {
   "cell_type": "markdown",
   "id": "40e2e965-718a-4d70-87dc-9e75ce619334",
   "metadata": {
    "scrolled": true
   },
   "source": [
    "Generate Chatbot Response"
   ]
  },
  {
   "cell_type": "code",
   "execution_count": 40,
   "id": "090a40b2-4715-4a85-859a-2cb4ae3eccee",
   "metadata": {},
   "outputs": [],
   "source": [
    "def generate_response(user_input):\n",
    "    risk_words = check_risk_words(user_input)\n",
    "    sentiment = analyze_sentiment(user_input)\n",
    "\n",
    "    if risk_words:\n",
    "        return \"⚠ I'm concerned about your safety. Please call Nigeria's mental health helpline at 0800-XXX-XXXX.\", \"Critical\"\n",
    "    elif sentiment == \"High Risk\":\n",
    "        return \"It sounds like you're going through a tough time. Would you like to talk more about what's bothering you?\", \"High\"\n",
    "    else:\n",
    "        # Return random FAQ answer for now\n",
    "        return faq_da.sample()['Answer'].values[0], \"Low\"\n"
   ]
  },
  {
   "cell_type": "code",
   "execution_count": 34,
   "id": "1ce26722-0fa0-42d7-96db-621e0b3c161a",
   "metadata": {},
   "outputs": [
    {
     "name": "stdout",
     "output_type": "stream",
     "text": [
      "(\"⚠ I'm concerned about your safety. Please call Nigeria's mental health helpline at 0800-XXX-XXXX.\", 'Critical')\n",
      "(\"Holidays highlight 'shoulds' (family, joy) vs reality. Scale back obligations. Create new traditions that honor YOUR needs.\", 'Low')\n",
      "(\"⚠ I'm concerned about your safety. Please call Nigeria's mental health helpline at 0800-XXX-XXXX.\", 'Critical')\n"
     ]
    }
   ],
   "source": [
    "print(generate_response(\"I feel like I want to end it all.\"))\n",
    "print(generate_response(\"I'm very anxious about work.\"))\n",
    "print(generate_response(\"i am overthinking\"))"
   ]
  },
  {
   "cell_type": "markdown",
   "id": "cf26f093-5f30-44a8-9838-e4fa430e4bae",
   "metadata": {},
   "source": [
    "Make a Flask Chat API"
   ]
  },
  {
   "cell_type": "code",
   "execution_count": 38,
   "id": "eb8a330c-ffed-41bc-b4ca-67d6c153a63c",
   "metadata": {},
   "outputs": [],
   "source": [
    "from flask import Flask, request, jsonify\n",
    "\n",
    "app = Flask(__name__)\n",
    "\n",
    "@app.route('/chat', methods=['POST'])\n",
    "def chat():\n",
    "    data = request.json\n",
    "    user_message = data.get('message', '')\n",
    "    response, risk = generate_response(user_message)\n",
    "    save_chat(user_message, response, risk)\n",
    "    return jsonify({'reply': response, 'risk': risk})\n",
    "\n",
    "if __name__ == \"_main_\":\n",
    "    app.run(port=5000)"
   ]
  },
  {
   "cell_type": "code",
   "execution_count": null,
   "id": "cb99abb0-2e51-433b-98aa-17b4d44672ba",
   "metadata": {},
   "outputs": [
    {
     "name": "stderr",
     "output_type": "stream",
     "text": [
      "[nltk_data] Downloading package vader_lexicon to\n",
      "[nltk_data]     C:\\Users\\USER\\AppData\\Roaming\\nltk_data...\n",
      "[nltk_data]   Package vader_lexicon is already up-to-date!\n"
     ]
    },
    {
     "name": "stdin",
     "output_type": "stream",
     "text": [
      "You:  i feel realy concerned about my safety\n"
     ]
    },
    {
     "name": "stdout",
     "output_type": "stream",
     "text": [
      "Bot (Moderate/Low): Try to breathe deeply. You're not alone.\n"
     ]
    },
    {
     "name": "stdin",
     "output_type": "stream",
     "text": [
      "You:  quity\n"
     ]
    },
    {
     "name": "stdout",
     "output_type": "stream",
     "text": [
      "Bot (Moderate/Low): You're doing your best, and that's enough.\n"
     ]
    },
    {
     "name": "stdin",
     "output_type": "stream",
     "text": [
      "You:  i feel hopeless and overwhelmed\n"
     ]
    },
    {
     "name": "stdout",
     "output_type": "stream",
     "text": [
      "Bot (Critical): ⚠ I'm really concerned about your safety. Please speak to someone you trust or call a mental health helpline.\n"
     ]
    },
    {
     "name": "stdin",
     "output_type": "stream",
     "text": [
      "You:  i just need some support\n"
     ]
    },
    {
     "name": "stdout",
     "output_type": "stream",
     "text": [
      "Bot (Moderate/Low): Would you like to talk more about what's bothering you?\n"
     ]
    },
    {
     "name": "stdin",
     "output_type": "stream",
     "text": [
      "You:  i am feeling hopeless\n"
     ]
    },
    {
     "name": "stdout",
     "output_type": "stream",
     "text": [
      "Bot (Critical): ⚠ I'm really concerned about your safety. Please speak to someone you trust or call a mental health helpline.\n"
     ]
    },
    {
     "name": "stdin",
     "output_type": "stream",
     "text": [
      "You:  i dont feel like myself anymore\n"
     ]
    },
    {
     "name": "stdout",
     "output_type": "stream",
     "text": [
      "Bot (Moderate/Low): It's okay to feel overwhelmed sometimes.\n"
     ]
    },
    {
     "name": "stdin",
     "output_type": "stream",
     "text": [
      "You:  i just want to sleep and never wake up\n"
     ]
    },
    {
     "name": "stdout",
     "output_type": "stream",
     "text": [
      "Bot (Moderate/Low): It's okay to feel overwhelmed sometimes.\n"
     ]
    },
    {
     "name": "stdin",
     "output_type": "stream",
     "text": [
      "You:  what's the point of even trying\n"
     ]
    },
    {
     "name": "stdout",
     "output_type": "stream",
     "text": [
      "Bot (Moderate/Low): Talk to someone you trust. You matter.\n"
     ]
    },
    {
     "name": "stdin",
     "output_type": "stream",
     "text": [
      "You:  is crying okay\n"
     ]
    },
    {
     "name": "stdout",
     "output_type": "stream",
     "text": [
      "Bot (Moderate/Low): You're doing your best, and that's enough.\n"
     ]
    },
    {
     "name": "stdin",
     "output_type": "stream",
     "text": [
      "You:  my brain wont work\n"
     ]
    },
    {
     "name": "stdout",
     "output_type": "stream",
     "text": [
      "Bot (Moderate/Low): Talk to someone you trust. You matter.\n"
     ]
    },
    {
     "name": "stdin",
     "output_type": "stream",
     "text": [
      "You:  work is draining me\n"
     ]
    },
    {
     "name": "stdout",
     "output_type": "stream",
     "text": [
      "Bot (Moderate/Low): You're doing your best, and that's enough.\n"
     ]
    },
    {
     "name": "stdin",
     "output_type": "stream",
     "text": [
      "You:  my parent wont believe in therapy\n"
     ]
    },
    {
     "name": "stdout",
     "output_type": "stream",
     "text": [
      "Bot (Moderate/Low): Talk to someone you trust. You matter.\n"
     ]
    },
    {
     "name": "stdin",
     "output_type": "stream",
     "text": [
      "You:  i had a panic attack in class\n"
     ]
    },
    {
     "name": "stdout",
     "output_type": "stream",
     "text": [
      "Bot (High): You sound overwhelmed. I'm here for you. Want to talk more?\n"
     ]
    },
    {
     "name": "stdin",
     "output_type": "stream",
     "text": [
      "You:  i am overthink\n"
     ]
    },
    {
     "name": "stdout",
     "output_type": "stream",
     "text": [
      "Bot (Moderate/Low): It's okay to feel overwhelmed sometimes.\n"
     ]
    },
    {
     "name": "stdin",
     "output_type": "stream",
     "text": [
      "You:  i am lonely\n"
     ]
    },
    {
     "name": "stdout",
     "output_type": "stream",
     "text": [
      "Bot (Moderate/Low): Try to breathe deeply. You're not alone.\n"
     ]
    }
   ],
   "source": [
    "import random\n",
    "import nltk\n",
    "from nltk.sentiment import SentimentIntensityAnalyzer\n",
    "\n",
    "nltk.download('vader_lexicon')\n",
    "\n",
    "# Predefined answers\n",
    "answers = [\n",
    "    \"You're doing your best, and that's enough.\",\n",
    "    \"Try to breathe deeply. You're not alone.\",\n",
    "    \"Talk to someone you trust. You matter.\",\n",
    "    \"It's okay to feel overwhelmed sometimes.\",\n",
    "    \"You're doing your best, and that's enough.\",\n",
    "    \"It's okay not to be okay. Take one breath at a time.\",\n",
    "    \"You’re not alone. Many people feel this way too — and they got through it.\",\n",
    "    \"Be kind to yourself. You deserve rest and peace.\",\n",
    "    \"Even the strongest people need support. Asking for help is strength.\",\n",
    "    \"Talk to someone you trust. You matter and your feelings are valid.\",\n",
    "    \"Try grounding yourself: What can you see, hear, smell, feel right now?\",\n",
    "    \"Healing takes time — but every small step counts.\",\n",
    "    \"It’s brave to open up about how you feel. You’ve already done something powerful.\",\n",
    "    \"I’m proud of you for sharing. That’s how healing starts.\",\n",
    "    \"Would you like to talk more about what's bothering you?\"\n",
    "]\n",
    "\n",
    "# Keywords that raise concern\n",
    "risk_keywords = [\"suicide\", \"hopeless\", \"end it all\", \"kill myself\", \"can't cope\"]\n",
    "\n",
    "# Sentiment analyzer\n",
    "sia = SentimentIntensityAnalyzer()\n",
    "\n",
    "# Check sentiment\n",
    "def analyze_sentiment(text):\n",
    "    score = sia.polarity_scores(text)['compound']\n",
    "    return \"High Risk\" if score < -0.5 else \"Moderate/Low Risk\"\n",
    "\n",
    "# Check risky words\n",
    "def check_risk_words(text):\n",
    "    return [word for word in risk_keywords if word in text.lower()]\n",
    "\n",
    "# Chatbot logic\n",
    "def generate_response(user_input):\n",
    "    risk_words = check_risk_words(user_input)\n",
    "    sentiment = analyze_sentiment(user_input)\n",
    "\n",
    "    if risk_words:\n",
    "        return (\"⚠ I'm really concerned about your safety. Please speak to someone you trust or call a mental health helpline.\", \"Critical\")\n",
    "    elif sentiment == \"High Risk\":\n",
    "        return (\"You sound overwhelmed. I'm here for you. Want to talk more?\", \"High\")\n",
    "    else:\n",
    "        return (random.choice(answers), \"Moderate/Low\")\n",
    "\n",
    "# Simple chat loop\n",
    "while True:\n",
    "    user_input = input(\"You: \")\n",
    "    if user_input.lower() in [\"exit\", \"quit\"]:\n",
    "        print(\"Bot: Take care of yourself. 💚\")\n",
    "        break\n",
    "    response, risk = generate_response(user_input)\n",
    "    print(f\"Bot ({risk}): {response}\")"
   ]
  },
  {
   "cell_type": "code",
   "execution_count": null,
   "id": "014fd683-c2af-468f-a6a1-a261cda70be7",
   "metadata": {},
   "outputs": [],
   "source": []
  }
 ],
 "metadata": {
  "kernelspec": {
   "display_name": "Python [conda env:base] *",
   "language": "python",
   "name": "conda-base-py"
  },
  "language_info": {
   "codemirror_mode": {
    "name": "ipython",
    "version": 3
   },
   "file_extension": ".py",
   "mimetype": "text/x-python",
   "name": "python",
   "nbconvert_exporter": "python",
   "pygments_lexer": "ipython3",
   "version": "3.12.7"
  }
 },
 "nbformat": 4,
 "nbformat_minor": 5
}
